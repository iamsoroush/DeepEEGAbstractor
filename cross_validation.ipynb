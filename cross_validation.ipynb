{
  "nbformat": 4,
  "nbformat_minor": 0,
  "metadata": {
    "colab": {
      "name": "cross_validation.ipynb",
      "provenance": [],
      "collapsed_sections": [
        "m7gl2sjohIR1",
        "OTK8-QBThLBZ",
        "JB-lWn5sIYoz",
        "LCkaSHY6NalG",
        "9-_G6K68N99U",
        "zCSadku54Gdq",
        "mrL1WMwi4mf8",
        "IxNGKiRF43ih",
        "K0SKZ8SE2D4_",
        "P7cmB2CL2e20",
        "22CTO07v26O-"
      ],
      "include_colab_link": true
    },
    "kernelspec": {
      "name": "python3",
      "display_name": "Python 3"
    },
    "accelerator": "GPU"
  },
  "cells": [
    {
      "cell_type": "markdown",
      "metadata": {
        "id": "view-in-github",
        "colab_type": "text"
      },
      "source": [
        "<a href=\"https://colab.research.google.com/github/iamsoroush/DeepEEGAbstractor/blob/master/cross_validation.ipynb\" target=\"_parent\"><img src=\"https://colab.research.google.com/assets/colab-badge.svg\" alt=\"Open In Colab\"/></a>"
      ]
    },
    {
      "cell_type": "code",
      "metadata": {
        "id": "t_oDqpTAHto0",
        "colab_type": "code",
        "outputId": "c607e7bd-46b2-473a-e766-992e2cf39645",
        "colab": {
          "base_uri": "https://localhost:8080/",
          "height": 269
        }
      },
      "source": [
        "#@title # Clone the repository and upgrade Keras {display-mode: \"form\"}\n",
        "\n",
        "!git clone https://github.com/iamsoroush/DeepEEGAbstractor.git\n",
        "!pip install --upgrade keras"
      ],
      "execution_count": 1,
      "outputs": [
        {
          "output_type": "stream",
          "text": [
            "Cloning into 'DeepEEGAbstractor'...\n",
            "remote: Enumerating objects: 259, done.\u001b[K\n",
            "remote: Counting objects: 100% (259/259), done.\u001b[K\n",
            "remote: Compressing objects: 100% (178/178), done.\u001b[K\n",
            "remote: Total 259 (delta 156), reused 159 (delta 79), pack-reused 0\u001b[K\n",
            "Receiving objects: 100% (259/259), 27.49 MiB | 9.20 MiB/s, done.\n",
            "Resolving deltas: 100% (156/156), done.\n",
            "Requirement already up-to-date: keras in /usr/local/lib/python3.6/dist-packages (2.3.0)\n",
            "Requirement already satisfied, skipping upgrade: six>=1.9.0 in /usr/local/lib/python3.6/dist-packages (from keras) (1.12.0)\n",
            "Requirement already satisfied, skipping upgrade: numpy>=1.9.1 in /usr/local/lib/python3.6/dist-packages (from keras) (1.16.5)\n",
            "Requirement already satisfied, skipping upgrade: scipy>=0.14 in /usr/local/lib/python3.6/dist-packages (from keras) (1.3.1)\n",
            "Requirement already satisfied, skipping upgrade: keras-applications>=1.0.6 in /usr/local/lib/python3.6/dist-packages (from keras) (1.0.8)\n",
            "Requirement already satisfied, skipping upgrade: keras-preprocessing>=1.0.5 in /usr/local/lib/python3.6/dist-packages (from keras) (1.1.0)\n",
            "Requirement already satisfied, skipping upgrade: pyyaml in /usr/local/lib/python3.6/dist-packages (from keras) (3.13)\n",
            "Requirement already satisfied, skipping upgrade: h5py in /usr/local/lib/python3.6/dist-packages (from keras) (2.8.0)\n"
          ],
          "name": "stdout"
        }
      ]
    },
    {
      "cell_type": "code",
      "metadata": {
        "id": "500FM_sYXyow",
        "colab_type": "code",
        "colab": {}
      },
      "source": [
        "!rm -r DeepEEGAbstractor"
      ],
      "execution_count": 0,
      "outputs": []
    },
    {
      "cell_type": "code",
      "metadata": {
        "id": "6vFqlAsrIGVW",
        "colab_type": "code",
        "outputId": "fa61d1c8-0d5c-457c-8857-053199072c26",
        "colab": {
          "base_uri": "https://localhost:8080/",
          "height": 67
        }
      },
      "source": [
        "#@title # Imports {display-mode: \"form\"}\n",
        "\n",
        "import os\n",
        "import pickle\n",
        "import sys\n",
        "sys.path.append('DeepEEGAbstractor')\n",
        "\n",
        "import numpy as np\n",
        "import matplotlib.pyplot as plt\n",
        "plt.style.use('seaborn-darkgrid')\n",
        "\n",
        "from src.helpers import CrossValidator\n",
        "from src.models import TemporalInceptionResnet, DeepEEGAbstractor, EEGNet, ESTCNNModel, Conv2DModel\n",
        "from src.dataset import DataLoader, Splitter, FixedLenGenerator\n",
        "\n",
        "from google.colab import drive\n",
        "drive.mount('/content/gdrive')"
      ],
      "execution_count": 2,
      "outputs": [
        {
          "output_type": "stream",
          "text": [
            "tensorflow version:  1.14.0\n",
            "Drive already mounted at /content/gdrive; to attempt to forcibly remount, call drive.mount(\"/content/gdrive\", force_remount=True).\n"
          ],
          "name": "stdout"
        },
        {
          "output_type": "stream",
          "text": [
            "Using TensorFlow backend.\n"
          ],
          "name": "stderr"
        }
      ]
    },
    {
      "cell_type": "code",
      "metadata": {
        "id": "zJ4zv-3vIL4C",
        "colab_type": "code",
        "outputId": "ca482098-1c60-4fbf-ef12-7f93874919e4",
        "colab": {
          "base_uri": "https://localhost:8080/",
          "height": 50
        }
      },
      "source": [
        "#@title # Set data path {display-mode: \"form\"}\n",
        "\n",
        "#@markdown ---\n",
        "#@markdown Type in the folder in your google drive that contains numpy _data_ folder:\n",
        "\n",
        "parent_dir = 'soroush'#@param {type:\"string\"}\n",
        "gdrive_path =  os.path.abspath(os.path.join('gdrive/My Drive', parent_dir))\n",
        "data_dir = os.path.join(gdrive_path, 'data')\n",
        "cv_results_dir = os.path.join(gdrive_path, 'cross_validation')\n",
        "if not os.path.exists(cv_results_dir):\n",
        "    os.mkdir(cv_results_dir)\n",
        "\n",
        "print('Data directory: ', data_dir)\n",
        "print('Cross validation results dir: ', cv_results_dir)"
      ],
      "execution_count": 3,
      "outputs": [
        {
          "output_type": "stream",
          "text": [
            "Data directory:  /content/gdrive/My Drive/soroush/data\n",
            "Cross validation results dir:  /content/gdrive/My Drive/soroush/cross_validation\n"
          ],
          "name": "stdout"
        }
      ]
    },
    {
      "cell_type": "markdown",
      "metadata": {
        "id": "m7gl2sjohIR1",
        "colab_type": "text"
      },
      "source": [
        "# HMDD Cross Subject"
      ]
    },
    {
      "cell_type": "code",
      "metadata": {
        "id": "mNGPLdaihcMj",
        "colab_type": "code",
        "colab": {},
        "cellView": "form"
      },
      "source": [
        "#@title ## Set Parameters\n",
        "\n",
        "batch_size = 80\n",
        "epochs = 30\n",
        "k = 10\n",
        "t = 10\n",
        "instance_duration = 4 #@param {type:\"slider\", min:3, max:10, step:0.5}\n",
        "instance_overlap = 1 #@param {type:\"slider\", min:0, max:3, step:0.5}\n",
        "sampling_rate = 256 #@param {type:\"number\"}\n",
        "n_channels = 19 #@param {type:\"number\"}\n",
        "task = 'hmdd'\n",
        "data_mode = 'cross_subject'"
      ],
      "execution_count": 0,
      "outputs": []
    },
    {
      "cell_type": "code",
      "metadata": {
        "id": "NpO0V6qBhRqw",
        "colab_type": "code",
        "colab": {
          "base_uri": "https://localhost:8080/",
          "height": 356
        },
        "cellView": "form",
        "outputId": "df8b05ae-9c62-4186-8351-dd4956cac946"
      },
      "source": [
        "#@title ## DEEGA-GAP\n",
        "\n",
        "model_name = 'DEEGA-GAP'\n",
        "\n",
        "train_generator = FixedLenGenerator(batch_size=batch_size,\n",
        "                                    duration=instance_duration,\n",
        "                                    overlap=instance_overlap,\n",
        "                                    sampling_rate=sampling_rate,\n",
        "                                    is_train=True)\n",
        "\n",
        "test_generator = FixedLenGenerator(batch_size=8,\n",
        "                                   duration=instance_duration,\n",
        "                                   overlap=instance_overlap,\n",
        "                                   sampling_rate=sampling_rate,\n",
        "                                   is_train=False)\n",
        "\n",
        "params = {'task': task,\n",
        "          'data_mode': data_mode,\n",
        "          'main_res_dir': cv_results_dir,\n",
        "          'model_name': model_name,\n",
        "          'epochs': epochs,\n",
        "          'train_generator': train_generator,\n",
        "          'test_generator': test_generator,\n",
        "          't': t,\n",
        "          'k': k}\n",
        "\n",
        "validator = CrossValidator(**params)\n",
        "\n",
        "dataloader = DataLoader(data_dir,\n",
        "                        task,\n",
        "                        data_mode,\n",
        "                        sampling_rate,\n",
        "                        instance_duration,\n",
        "                        instance_overlap)\n",
        "data, labels = dataloader.load_data()\n",
        "\n",
        "input_shape = (sampling_rate * instance_duration,\n",
        "               n_channels)\n",
        "\n",
        "model_obj = TemporalInceptionResnet(input_shape,\n",
        "                                    model_name=model_name)\n",
        "\n",
        "scores = validator.do_cv(model_obj,\n",
        "                         data,\n",
        "                         labels)"
      ],
      "execution_count": 0,
      "outputs": [
        {
          "output_type": "stream",
          "text": [
            "  2%|▏         | 2/119 [00:00<00:07, 16.05it/s]"
          ],
          "name": "stderr"
        },
        {
          "output_type": "stream",
          "text": [
            "\n",
            "Loading data ...\n",
            "\n"
          ],
          "name": "stdout"
        },
        {
          "output_type": "stream",
          "text": [
            "100%|██████████| 119/119 [00:04<00:00, 37.45it/s]\n"
          ],
          "name": "stderr"
        },
        {
          "output_type": "stream",
          "text": [
            "Train-test indices generated.\n",
            "time 1/10:\n",
            " step 1/10 ...\n",
            "WARNING:tensorflow:From /usr/local/lib/python3.6/dist-packages/keras/backend/tensorflow_backend.py:4074: The name tf.nn.avg_pool is deprecated. Please use tf.nn.avg_pool2d instead.\n",
            "\n",
            "WARNING:tensorflow:From /usr/local/lib/python3.6/dist-packages/keras/backend/tensorflow_backend.py:422: The name tf.global_variables is deprecated. Please use tf.compat.v1.global_variables instead.\n",
            "\n",
            " step 2/10 ...\n",
            " step 3/10 ...\n",
            " step 4/10 ...\n",
            " step 5/10 ...\n",
            " step 6/10 ...\n",
            " step 7/10 ...\n",
            " step 8/10 ...\n",
            " step 9/10 ...\n"
          ],
          "name": "stdout"
        }
      ]
    },
    {
      "cell_type": "code",
      "metadata": {
        "id": "FAsrCn0sh7EU",
        "colab_type": "code",
        "colab": {},
        "cellView": "form"
      },
      "source": [
        "#@title ## DEEGA\n",
        "\n",
        "model_name = 'DEEGA'\n",
        "\n",
        "train_generator = FixedLenGenerator(batch_size=batch_size,\n",
        "                                    duration=instance_duration,\n",
        "                                    overlap=instance_overlap,\n",
        "                                    sampling_rate=sampling_rate,\n",
        "                                    is_train=True)\n",
        "\n",
        "test_generator = FixedLenGenerator(batch_size=8,\n",
        "                                   duration=instance_duration,\n",
        "                                   overlap=instance_overlap,\n",
        "                                   sampling_rate=sampling_rate,\n",
        "                                   is_train=False)\n",
        "\n",
        "params = {'task': task,\n",
        "          'data_mode': data_mode,\n",
        "          'main_res_dir': cv_results_dir,\n",
        "          'model_name': model_name,\n",
        "          'epochs': epochs,\n",
        "          'train_generator': train_generator,\n",
        "          'test_generator': test_generator,\n",
        "          't': t,\n",
        "          'k': k}\n",
        "\n",
        "validator = CrossValidator(**params)\n",
        "\n",
        "dataloader = DataLoader(data_dir,\n",
        "                        task,\n",
        "                        data_mode,\n",
        "                        sampling_rate,\n",
        "                        instance_duration,\n",
        "                        instance_overlap)\n",
        "data, labels = dataloader.load_data()\n",
        "\n",
        "input_shape = (sampling_rate * instance_duration,\n",
        "               n_channels)\n",
        "\n",
        "model_obj = DeepEEGAbstractor(input_shape,\n",
        "                              model_name=model_name)\n",
        "\n",
        "scores = validator.do_cv(model_obj,\n",
        "                         data,\n",
        "                         labels)"
      ],
      "execution_count": 0,
      "outputs": []
    },
    {
      "cell_type": "code",
      "metadata": {
        "id": "0g8HngZciHVL",
        "colab_type": "code",
        "colab": {},
        "cellView": "form"
      },
      "source": [
        "#@title ## EEGNet\n",
        "\n",
        "model_name = 'EEGNet'\n",
        "\n",
        "train_generator = FixedLenGenerator(batch_size=batch_size,\n",
        "                                    duration=instance_duration,\n",
        "                                    overlap=instance_overlap,\n",
        "                                    sampling_rate=sampling_rate,\n",
        "                                    is_train=True)\n",
        "\n",
        "test_generator = FixedLenGenerator(batch_size=8,\n",
        "                                   duration=instance_duration,\n",
        "                                   overlap=instance_overlap,\n",
        "                                   sampling_rate=sampling_rate,\n",
        "                                   is_train=False)\n",
        "\n",
        "params = {'task': task,\n",
        "          'data_mode': data_mode,\n",
        "          'main_res_dir': cv_results_dir,\n",
        "          'model_name': model_name,\n",
        "          'epochs': epochs,\n",
        "          'train_generator': train_generator,\n",
        "          'test_generator': test_generator,\n",
        "          't': t,\n",
        "          'k': k}\n",
        "\n",
        "validator = CrossValidator(**params)\n",
        "\n",
        "dataloader = DataLoader(data_dir,\n",
        "                        task,\n",
        "                        data_mode,\n",
        "                        sampling_rate,\n",
        "                        instance_duration,\n",
        "                        instance_overlap)\n",
        "data, labels = dataloader.load_data()\n",
        "\n",
        "input_shape = (sampling_rate * instance_duration,\n",
        "               n_channels)\n",
        "\n",
        "model_obj = EEGNet(input_shape,\n",
        "                   model_name=model_name)\n",
        "\n",
        "scores = validator.do_cv(model_obj,\n",
        "                         data,\n",
        "                         labels)"
      ],
      "execution_count": 0,
      "outputs": []
    },
    {
      "cell_type": "code",
      "metadata": {
        "id": "KVw3fbQLiORC",
        "colab_type": "code",
        "colab": {},
        "cellView": "form"
      },
      "source": [
        "#@title ## E-ST-CNN\n",
        "\n",
        "model_name = 'ESTCNN'\n",
        "\n",
        "train_generator = FixedLenGenerator(batch_size=batch_size,\n",
        "                                    duration=instance_duration,\n",
        "                                    overlap=instance_overlap,\n",
        "                                    sampling_rate=sampling_rate,\n",
        "                                    is_train=True)\n",
        "\n",
        "test_generator = FixedLenGenerator(batch_size=8,\n",
        "                                   duration=instance_duration,\n",
        "                                   overlap=instance_overlap,\n",
        "                                   sampling_rate=sampling_rate,\n",
        "                                   is_train=False)\n",
        "\n",
        "params = {'task': task,\n",
        "          'data_mode': data_mode,\n",
        "          'main_res_dir': cv_results_dir,\n",
        "          'model_name': model_name,\n",
        "          'epochs': epochs,\n",
        "          'train_generator': train_generator,\n",
        "          'test_generator': test_generator,\n",
        "          't': t,\n",
        "          'k': k}\n",
        "\n",
        "validator = CrossValidator(**params)\n",
        "\n",
        "dataloader = DataLoader(data_dir,\n",
        "                        task,\n",
        "                        data_mode,\n",
        "                        sampling_rate,\n",
        "                        instance_duration,\n",
        "                        instance_overlap)\n",
        "data, labels = dataloader.load_data()\n",
        "\n",
        "input_shape = (sampling_rate * instance_duration,\n",
        "               n_channels)\n",
        "\n",
        "model_obj = ESTCNNModel(input_shape,\n",
        "                        model_name=model_name)\n",
        "\n",
        "scores = validator.do_cv(model_obj,\n",
        "                         data,\n",
        "                         labels)"
      ],
      "execution_count": 0,
      "outputs": []
    },
    {
      "cell_type": "code",
      "metadata": {
        "id": "8cb_uGuNiaX2",
        "colab_type": "code",
        "colab": {},
        "cellView": "form"
      },
      "source": [
        "#@title ## Conv2DModel\n",
        "\n",
        "model_name = 'Conv2DModel'\n",
        "\n",
        "train_generator = FixedLenGenerator(batch_size=batch_size,\n",
        "                                    duration=instance_duration,\n",
        "                                    overlap=instance_overlap,\n",
        "                                    sampling_rate=sampling_rate,\n",
        "                                    is_train=True)\n",
        "\n",
        "test_generator = FixedLenGenerator(batch_size=8,\n",
        "                                   duration=instance_duration,\n",
        "                                   overlap=instance_overlap,\n",
        "                                   sampling_rate=sampling_rate,\n",
        "                                   is_train=False)\n",
        "\n",
        "params = {'task': task,\n",
        "          'data_mode': data_mode,\n",
        "          'main_res_dir': cv_results_dir,\n",
        "          'model_name': model_name,\n",
        "          'epochs': epochs,\n",
        "          'train_generator': train_generator,\n",
        "          'test_generator': test_generator,\n",
        "          't': t,\n",
        "          'k': k}\n",
        "\n",
        "validator = CrossValidator(**params)\n",
        "\n",
        "dataloader = DataLoader(data_dir,\n",
        "                        task,\n",
        "                        data_mode,\n",
        "                        sampling_rate,\n",
        "                        instance_duration,\n",
        "                        instance_overlap)\n",
        "data, labels = dataloader.load_data()\n",
        "\n",
        "input_shape = (sampling_rate * instance_duration,\n",
        "               n_channels)\n",
        "\n",
        "model_obj = Conv2DModel(input_shape,\n",
        "                        model_name=model_name)\n",
        "\n",
        "scores = validator.do_cv(model_obj,\n",
        "                         data,\n",
        "                         labels)"
      ],
      "execution_count": 0,
      "outputs": []
    },
    {
      "cell_type": "markdown",
      "metadata": {
        "id": "OTK8-QBThLBZ",
        "colab_type": "text"
      },
      "source": [
        "# RNR Cross Subject"
      ]
    },
    {
      "cell_type": "code",
      "metadata": {
        "id": "yHIurSekjtvM",
        "colab_type": "code",
        "colab": {},
        "cellView": "form"
      },
      "source": [
        "#@title ## Set Parameters\n",
        "\n",
        "batch_size = 80\n",
        "epochs = 30\n",
        "k = 10\n",
        "t = 10\n",
        "instance_duration = 4 #@param {type:\"slider\", min:3, max:10, step:0.5}\n",
        "instance_overlap = 1 #@param {type:\"slider\", min:0, max:3, step:0.5}\n",
        "sampling_rate = 256 #@param {type:\"number\"}\n",
        "n_channels = 19 #@param {type:\"number\"}\n",
        "task = 'rnr'\n",
        "data_mode = 'cross_subject'"
      ],
      "execution_count": 0,
      "outputs": []
    },
    {
      "cell_type": "code",
      "metadata": {
        "id": "jObrxfu1j0Ry",
        "colab_type": "code",
        "colab": {},
        "cellView": "form"
      },
      "source": [
        "#@title ## DEEGA-GAP\n",
        "\n",
        "model_name = 'DEEGA-GAP'\n",
        "\n",
        "train_generator = FixedLenGenerator(batch_size=batch_size,\n",
        "                                    duration=instance_duration,\n",
        "                                    overlap=instance_overlap,\n",
        "                                    sampling_rate=sampling_rate,\n",
        "                                    is_train=True)\n",
        "\n",
        "test_generator = FixedLenGenerator(batch_size=8,\n",
        "                                   duration=instance_duration,\n",
        "                                   overlap=instance_overlap,\n",
        "                                   sampling_rate=sampling_rate,\n",
        "                                   is_train=False)\n",
        "\n",
        "params = {'task': task,\n",
        "          'data_mode': data_mode,\n",
        "          'main_res_dir': cv_results_dir,\n",
        "          'model_name': model_name,\n",
        "          'epochs': epochs,\n",
        "          'train_generator': train_generator,\n",
        "          'test_generator': test_generator,\n",
        "          't': t,\n",
        "          'k': k}\n",
        "\n",
        "validator = CrossValidator(**params)\n",
        "\n",
        "dataloader = DataLoader(data_dir,\n",
        "                        task,\n",
        "                        data_mode,\n",
        "                        sampling_rate,\n",
        "                        instance_duration,\n",
        "                        instance_overlap)\n",
        "data, labels = dataloader.load_data()\n",
        "\n",
        "input_shape = (sampling_rate * instance_duration,\n",
        "               n_channels)\n",
        "\n",
        "model_obj = TemporalInceptionResnet(input_shape,\n",
        "                                    model_name=model_name)\n",
        "\n",
        "scores = validator.do_cv(model_obj,\n",
        "                         data,\n",
        "                         labels)"
      ],
      "execution_count": 0,
      "outputs": []
    },
    {
      "cell_type": "code",
      "metadata": {
        "id": "qU60F2GDj3iL",
        "colab_type": "code",
        "colab": {},
        "cellView": "form"
      },
      "source": [
        "#@title ## DEEGA\n",
        "\n",
        "model_name = 'DEEGA'\n",
        "\n",
        "train_generator = FixedLenGenerator(batch_size=batch_size,\n",
        "                                    duration=instance_duration,\n",
        "                                    overlap=instance_overlap,\n",
        "                                    sampling_rate=sampling_rate,\n",
        "                                    is_train=True)\n",
        "\n",
        "test_generator = FixedLenGenerator(batch_size=8,\n",
        "                                   duration=instance_duration,\n",
        "                                   overlap=instance_overlap,\n",
        "                                   sampling_rate=sampling_rate,\n",
        "                                   is_train=False)\n",
        "\n",
        "params = {'task': task,\n",
        "          'data_mode': data_mode,\n",
        "          'main_res_dir': cv_results_dir,\n",
        "          'model_name': model_name,\n",
        "          'epochs': epochs,\n",
        "          'train_generator': train_generator,\n",
        "          'test_generator': test_generator,\n",
        "          't': t,\n",
        "          'k': k}\n",
        "\n",
        "validator = CrossValidator(**params)\n",
        "\n",
        "dataloader = DataLoader(data_dir,\n",
        "                        task,\n",
        "                        data_mode,\n",
        "                        sampling_rate,\n",
        "                        instance_duration,\n",
        "                        instance_overlap)\n",
        "data, labels = dataloader.load_data()\n",
        "\n",
        "input_shape = (sampling_rate * instance_duration,\n",
        "               n_channels)\n",
        "\n",
        "model_obj = DeepEEGAbstractor(input_shape,\n",
        "                              model_name=model_name)\n",
        "\n",
        "scores = validator.do_cv(model_obj,\n",
        "                         data,\n",
        "                         labels)"
      ],
      "execution_count": 0,
      "outputs": []
    },
    {
      "cell_type": "code",
      "metadata": {
        "id": "Q6WGG1Qnj6iM",
        "colab_type": "code",
        "colab": {},
        "cellView": "form"
      },
      "source": [
        "#@title ## EEGNet\n",
        "\n",
        "model_name = 'EEGNet'\n",
        "\n",
        "train_generator = FixedLenGenerator(batch_size=batch_size,\n",
        "                                    duration=instance_duration,\n",
        "                                    overlap=instance_overlap,\n",
        "                                    sampling_rate=sampling_rate,\n",
        "                                    is_train=True)\n",
        "\n",
        "test_generator = FixedLenGenerator(batch_size=8,\n",
        "                                   duration=instance_duration,\n",
        "                                   overlap=instance_overlap,\n",
        "                                   sampling_rate=sampling_rate,\n",
        "                                   is_train=False)\n",
        "\n",
        "params = {'task': task,\n",
        "          'data_mode': data_mode,\n",
        "          'main_res_dir': cv_results_dir,\n",
        "          'model_name': model_name,\n",
        "          'epochs': epochs,\n",
        "          'train_generator': train_generator,\n",
        "          'test_generator': test_generator,\n",
        "          't': t,\n",
        "          'k': k}\n",
        "\n",
        "validator = CrossValidator(**params)\n",
        "\n",
        "dataloader = DataLoader(data_dir,\n",
        "                        task,\n",
        "                        data_mode,\n",
        "                        sampling_rate,\n",
        "                        instance_duration,\n",
        "                        instance_overlap)\n",
        "data, labels = dataloader.load_data()\n",
        "\n",
        "input_shape = (sampling_rate * instance_duration,\n",
        "               n_channels)\n",
        "\n",
        "model_obj = EEGNet(input_shape,\n",
        "                   model_name=model_name)\n",
        "\n",
        "scores = validator.do_cv(model_obj,\n",
        "                         data,\n",
        "                         labels)"
      ],
      "execution_count": 0,
      "outputs": []
    },
    {
      "cell_type": "code",
      "metadata": {
        "id": "Xu0imLI_j9tr",
        "colab_type": "code",
        "colab": {},
        "cellView": "form"
      },
      "source": [
        "#@title ## E-ST-CNN\n",
        "\n",
        "model_name = 'ESTCNN'\n",
        "\n",
        "train_generator = FixedLenGenerator(batch_size=batch_size,\n",
        "                                    duration=instance_duration,\n",
        "                                    overlap=instance_overlap,\n",
        "                                    sampling_rate=sampling_rate,\n",
        "                                    is_train=True)\n",
        "\n",
        "test_generator = FixedLenGenerator(batch_size=8,\n",
        "                                   duration=instance_duration,\n",
        "                                   overlap=instance_overlap,\n",
        "                                   sampling_rate=sampling_rate,\n",
        "                                   is_train=False)\n",
        "\n",
        "params = {'task': task,\n",
        "          'data_mode': data_mode,\n",
        "          'main_res_dir': cv_results_dir,\n",
        "          'model_name': model_name,\n",
        "          'epochs': epochs,\n",
        "          'train_generator': train_generator,\n",
        "          'test_generator': test_generator,\n",
        "          't': t,\n",
        "          'k': k}\n",
        "\n",
        "validator = CrossValidator(**params)\n",
        "\n",
        "dataloader = DataLoader(data_dir,\n",
        "                        task,\n",
        "                        data_mode,\n",
        "                        sampling_rate,\n",
        "                        instance_duration,\n",
        "                        instance_overlap)\n",
        "data, labels = dataloader.load_data()\n",
        "\n",
        "input_shape = (sampling_rate * instance_duration,\n",
        "               n_channels)\n",
        "\n",
        "model_obj = ESTCNNModel(input_shape,\n",
        "                        model_name=model_name)\n",
        "\n",
        "scores = validator.do_cv(model_obj,\n",
        "                         data,\n",
        "                         labels)"
      ],
      "execution_count": 0,
      "outputs": []
    },
    {
      "cell_type": "code",
      "metadata": {
        "id": "K6g9-7SRkARK",
        "colab_type": "code",
        "colab": {},
        "cellView": "form"
      },
      "source": [
        "#@title ## Conv2DModel\n",
        "\n",
        "model_name = 'Conv2DModel'\n",
        "\n",
        "train_generator = FixedLenGenerator(batch_size=batch_size,\n",
        "                                    duration=instance_duration,\n",
        "                                    overlap=instance_overlap,\n",
        "                                    sampling_rate=sampling_rate,\n",
        "                                    is_train=True)\n",
        "\n",
        "test_generator = FixedLenGenerator(batch_size=8,\n",
        "                                   duration=instance_duration,\n",
        "                                   overlap=instance_overlap,\n",
        "                                   sampling_rate=sampling_rate,\n",
        "                                   is_train=False)\n",
        "\n",
        "params = {'task': task,\n",
        "          'data_mode': data_mode,\n",
        "          'main_res_dir': cv_results_dir,\n",
        "          'model_name': model_name,\n",
        "          'epochs': epochs,\n",
        "          'train_generator': train_generator,\n",
        "          'test_generator': test_generator,\n",
        "          't': t,\n",
        "          'k': k}\n",
        "\n",
        "validator = CrossValidator(**params)\n",
        "\n",
        "dataloader = DataLoader(data_dir,\n",
        "                        task,\n",
        "                        data_mode,\n",
        "                        sampling_rate,\n",
        "                        instance_duration,\n",
        "                        instance_overlap)\n",
        "data, labels = dataloader.load_data()\n",
        "\n",
        "input_shape = (sampling_rate * instance_duration,\n",
        "               n_channels)\n",
        "\n",
        "model_obj = Conv2DModel(input_shape,\n",
        "                        model_name=model_name)\n",
        "\n",
        "scores = validator.do_cv(model_obj,\n",
        "                         data,\n",
        "                         labels)"
      ],
      "execution_count": 0,
      "outputs": []
    },
    {
      "cell_type": "code",
      "metadata": {
        "id": "p9mCz5-MCPsH",
        "colab_type": "code",
        "colab": {}
      },
      "source": [
        ""
      ],
      "execution_count": 0,
      "outputs": []
    }
  ]
}