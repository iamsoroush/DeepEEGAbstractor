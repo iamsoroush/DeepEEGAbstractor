{
  "nbformat": 4,
  "nbformat_minor": 0,
  "metadata": {
    "colab": {
      "name": "prepare_data.ipynb",
      "provenance": [],
      "collapsed_sections": [],
      "include_colab_link": true
    },
    "kernelspec": {
      "name": "python3",
      "display_name": "Python 3"
    }
  },
  "cells": [
    {
      "cell_type": "markdown",
      "metadata": {
        "id": "view-in-github",
        "colab_type": "text"
      },
      "source": [
        "<a href=\"https://colab.research.google.com/github/iamsoroush/DeepEEGAbstractor/blob/master/prepare_data.ipynb\" target=\"_parent\"><img src=\"https://colab.research.google.com/assets/colab-badge.svg\" alt=\"Open In Colab\"/></a>"
      ]
    },
    {
      "cell_type": "code",
      "metadata": {
        "id": "DaiQxTRn-8Kt",
        "colab_type": "code",
        "cellView": "form",
        "outputId": "c987bcd2-ef16-4468-8706-da33f4fc2820",
        "colab": {
          "base_uri": "https://localhost:8080/",
          "height": 252
        }
      },
      "source": [
        "#@title # Clone the repository\n",
        "\n",
        "!git clone https://github.com/iamsoroush/DeepEEGAbstractor.git\n",
        "!pip install mne"
      ],
      "execution_count": 0,
      "outputs": [
        {
          "output_type": "stream",
          "text": [
            "Cloning into 'DeepEEGAbstractor'...\n",
            "remote: Enumerating objects: 25, done.\u001b[K\n",
            "remote: Counting objects: 100% (25/25), done.\u001b[K\n",
            "remote: Compressing objects: 100% (17/17), done.\u001b[K\n",
            "remote: Total 358 (delta 12), reused 17 (delta 8), pack-reused 333\u001b[K\n",
            "Receiving objects: 100% (358/358), 27.53 MiB | 22.51 MiB/s, done.\n",
            "Resolving deltas: 100% (219/219), done.\n",
            "Collecting mne\n",
            "\u001b[?25l  Downloading https://files.pythonhosted.org/packages/f5/44/b5b96426623c9dca0dfcdcfdf1f57058bb668f7c1a01bed0b0b867eb8b92/mne-0.19.0-py3-none-any.whl (6.4MB)\n",
            "\u001b[K     |████████████████████████████████| 6.4MB 4.4MB/s \n",
            "\u001b[?25hRequirement already satisfied: scipy>=0.17.1 in /usr/local/lib/python3.6/dist-packages (from mne) (1.3.1)\n",
            "Requirement already satisfied: numpy>=1.11.3 in /usr/local/lib/python3.6/dist-packages (from mne) (1.16.5)\n",
            "Installing collected packages: mne\n",
            "Successfully installed mne-0.19.0\n"
          ],
          "name": "stdout"
        }
      ]
    },
    {
      "cell_type": "code",
      "metadata": {
        "id": "2olIs9IcAH_B",
        "colab_type": "code",
        "cellView": "form",
        "outputId": "ac579d48-169d-434d-dfd4-50dd895b9670",
        "colab": {
          "base_uri": "https://localhost:8080/",
          "height": 154
        }
      },
      "source": [
        "#@title # Imports\n",
        "\n",
        "import os\n",
        "import sys\n",
        "sys.path.append('DeepEEGAbstractor')\n",
        "\n",
        "from src.make_data import download_data, generate_data\n",
        "\n",
        "from google.colab import drive\n",
        "drive.mount('/content/gdrive')"
      ],
      "execution_count": 0,
      "outputs": [
        {
          "output_type": "stream",
          "text": [
            "/usr/local/lib/python3.6/dist-packages/numba/decorators.py:146: RuntimeWarning: Caching is not available when the 'parallel' target is in use. Caching is now being disabled to allow execution to continue.\n",
            "  warnings.warn(msg, RuntimeWarning)\n"
          ],
          "name": "stderr"
        },
        {
          "output_type": "stream",
          "text": [
            "Go to this URL in a browser: https://accounts.google.com/o/oauth2/auth?client_id=947318989803-6bn6qk8qdgf4n4g3pfee6491hc0brc4i.apps.googleusercontent.com&redirect_uri=urn%3Aietf%3Awg%3Aoauth%3A2.0%3Aoob&scope=email%20https%3A%2F%2Fwww.googleapis.com%2Fauth%2Fdocs.test%20https%3A%2F%2Fwww.googleapis.com%2Fauth%2Fdrive%20https%3A%2F%2Fwww.googleapis.com%2Fauth%2Fdrive.photos.readonly%20https%3A%2F%2Fwww.googleapis.com%2Fauth%2Fpeopleapi.readonly&response_type=code\n",
            "\n",
            "Enter your authorization code:\n",
            "··········\n",
            "Mounted at /content/gdrive\n"
          ],
          "name": "stdout"
        }
      ]
    },
    {
      "cell_type": "code",
      "metadata": {
        "id": "VLiDyvTZABv8",
        "colab_type": "code",
        "outputId": "590138af-e593-4adf-c06d-5726a178f70e",
        "colab": {
          "base_uri": "https://localhost:8080/",
          "height": 50
        }
      },
      "source": [
        "#@title # Set data path {display-mode: \"form\"}\n",
        "\n",
        "#@markdown ---\n",
        "\n",
        "download_dir = 'soroush' #@param {type:\"string\"}\n",
        "gdrive_path =  os.path.abspath(os.path.join('gdrive/My Drive', download_dir))\n",
        "\n",
        "if not os.path.exists(gdrive_path):\n",
        "    os.mkdir(gdrive_path)\n",
        "\n",
        "edf_data_dir = os.path.join(gdrive_path, 'eeg_data')\n",
        "data_dir = os.path.join(gdrive_path, 'data')\n",
        "\n",
        "print('edf data directory: ', edf_data_dir)\n",
        "print('Numpy data directory: ', data_dir)\n"
      ],
      "execution_count": 0,
      "outputs": [
        {
          "output_type": "stream",
          "text": [
            "edf data directory:  /content/gdrive/My Drive/soroush/eeg_data\n",
            "Numpy data directory:  /content/gdrive/My Drive/soroush/data\n"
          ],
          "name": "stdout"
        }
      ]
    },
    {
      "cell_type": "code",
      "metadata": {
        "id": "7Y-ryYruKbsR",
        "colab_type": "code",
        "cellView": "form",
        "outputId": "d947822a-7028-4e2c-8ad5-6e8eef4dfb7c",
        "colab": {
          "base_uri": "https://localhost:8080/",
          "height": 101
        }
      },
      "source": [
        "#@title # Download data and generate numpy data\n",
        "\n",
        "download_data(gdrive_path)\n",
        "generate_data(src_dir=edf_data_dir, dst_dir=data_dir, n_channels=20)\n",
        "\n",
        "print('Data is ready on ', data_dir)"
      ],
      "execution_count": 0,
      "outputs": [
        {
          "output_type": "stream",
          "text": [
            "Zip file exists.\n",
            "Zip file extracted to  /content/gdrive/My Drive/soroush/eeg_data\n"
          ],
          "name": "stdout"
        },
        {
          "output_type": "stream",
          "text": [
            "\r  0%|          | 0/119 [00:00<?, ?it/s]"
          ],
          "name": "stderr"
        },
        {
          "output_type": "stream",
          "text": [
            "Loading samples ...\n"
          ],
          "name": "stdout"
        },
        {
          "output_type": "stream",
          "text": [
            "100%|██████████| 119/119 [00:49<00:00,  1.99it/s]"
          ],
          "name": "stderr"
        },
        {
          "output_type": "stream",
          "text": [
            "Data is ready on  /content/gdrive/My Drive/soroush/data\n"
          ],
          "name": "stdout"
        },
        {
          "output_type": "stream",
          "text": [
            "\n"
          ],
          "name": "stderr"
        }
      ]
    },
    {
      "cell_type": "markdown",
      "metadata": {
        "id": "84POEmAcNKK3",
        "colab_type": "text"
      },
      "source": [
        "End of file."
      ]
    }
  ]
}