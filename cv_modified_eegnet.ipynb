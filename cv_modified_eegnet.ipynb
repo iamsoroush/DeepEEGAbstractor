{
  "nbformat": 4,
  "nbformat_minor": 0,
  "metadata": {
    "colab": {
      "name": "cv_modified_eegnet.ipynb",
      "provenance": [],
      "collapsed_sections": [],
      "include_colab_link": true
    },
    "kernelspec": {
      "name": "python3",
      "display_name": "Python 3"
    },
    "accelerator": "GPU"
  },
  "cells": [
    {
      "cell_type": "markdown",
      "metadata": {
        "id": "view-in-github",
        "colab_type": "text"
      },
      "source": [
        "<a href=\"https://colab.research.google.com/github/iamsoroush/DeepEEGAbstractor/blob/master/cv_modified_eegnet.ipynb\" target=\"_parent\"><img src=\"https://colab.research.google.com/assets/colab-badge.svg\" alt=\"Open In Colab\"/></a>"
      ]
    },
    {
      "cell_type": "code",
      "metadata": {
        "id": "8E-Edvhyoyht",
        "colab_type": "code",
        "outputId": "f7833429-c14d-49dc-8839-81f37fce5ccc",
        "colab": {
          "base_uri": "https://localhost:8080/",
          "height": 386
        }
      },
      "source": [
        "#@title # Clone the repository and upgrade Keras {display-mode: \"form\"}\n",
        "\n",
        "!git clone https://github.com/iamsoroush/DeepEEGAbstractor.git\n",
        "!pip install --upgrade keras"
      ],
      "execution_count": 0,
      "outputs": [
        {
          "output_type": "stream",
          "text": [
            "Cloning into 'DeepEEGAbstractor'...\n",
            "remote: Enumerating objects: 201, done.\u001b[K\n",
            "remote: Counting objects:   0% (1/201)\u001b[K\rremote: Counting objects:   1% (3/201)\u001b[K\rremote: Counting objects:   2% (5/201)\u001b[K\rremote: Counting objects:   3% (7/201)\u001b[K\rremote: Counting objects:   4% (9/201)\u001b[K\rremote: Counting objects:   5% (11/201)\u001b[K\rremote: Counting objects:   6% (13/201)\u001b[K\rremote: Counting objects:   7% (15/201)\u001b[K\rremote: Counting objects:   8% (17/201)\u001b[K\rremote: Counting objects:   9% (19/201)\u001b[K\rremote: Counting objects:  10% (21/201)\u001b[K\rremote: Counting objects:  11% (23/201)\u001b[K\rremote: Counting objects:  12% (25/201)\u001b[K\rremote: Counting objects:  13% (27/201)\u001b[K\rremote: Counting objects:  14% (29/201)\u001b[K\rremote: Counting objects:  15% (31/201)\u001b[K\rremote: Counting objects:  16% (33/201)\u001b[K\rremote: Counting objects:  17% (35/201)\u001b[K\rremote: Counting objects:  18% (37/201)\u001b[K\rremote: Counting objects:  19% (39/201)\u001b[K\rremote: Counting objects:  20% (41/201)\u001b[K\rremote: Counting objects:  21% (43/201)\u001b[K\rremote: Counting objects:  22% (45/201)\u001b[K\rremote: Counting objects:  23% (47/201)\u001b[K\rremote: Counting objects:  24% (49/201)\u001b[K\rremote: Counting objects:  25% (51/201)\u001b[K\rremote: Counting objects:  26% (53/201)\u001b[K\rremote: Counting objects:  27% (55/201)\u001b[K\rremote: Counting objects:  28% (57/201)\u001b[K\rremote: Counting objects:  29% (59/201)\u001b[K\rremote: Counting objects:  30% (61/201)\u001b[K\rremote: Counting objects:  31% (63/201)\u001b[K\rremote: Counting objects:  32% (65/201)\u001b[K\rremote: Counting objects:  33% (67/201)\u001b[K\rremote: Counting objects:  34% (69/201)\u001b[K\rremote: Counting objects:  35% (71/201)\u001b[K\rremote: Counting objects:  36% (73/201)\u001b[K\rremote: Counting objects:  37% (75/201)\u001b[K\rremote: Counting objects:  38% (77/201)\u001b[K\rremote: Counting objects:  39% (79/201)\u001b[K\rremote: Counting objects:  40% (81/201)\u001b[K\rremote: Counting objects:  41% (83/201)\u001b[K\rremote: Counting objects:  42% (85/201)\u001b[K\rremote: Counting objects:  43% (87/201)\u001b[K\rremote: Counting objects:  44% (89/201)\u001b[K\rremote: Counting objects:  45% (91/201)\u001b[K\rremote: Counting objects:  46% (93/201)\u001b[K\rremote: Counting objects:  47% (95/201)\u001b[K\rremote: Counting objects:  48% (97/201)\u001b[K\rremote: Counting objects:  49% (99/201)\u001b[K\rremote: Counting objects:  50% (101/201)\u001b[K\rremote: Counting objects:  51% (103/201)\u001b[K\rremote: Counting objects:  52% (105/201)\u001b[K\rremote: Counting objects:  53% (107/201)\u001b[K\rremote: Counting objects:  54% (109/201)\u001b[K\rremote: Counting objects:  55% (111/201)\u001b[K\rremote: Counting objects:  56% (113/201)\u001b[K\rremote: Counting objects:  57% (115/201)\u001b[K\rremote: Counting objects:  58% (117/201)\u001b[K\rremote: Counting objects:  59% (119/201)\u001b[K\rremote: Counting objects:  60% (121/201)\u001b[K\rremote: Counting objects:  61% (123/201)\u001b[K\rremote: Counting objects:  62% (125/201)\u001b[K\rremote: Counting objects:  63% (127/201)\u001b[K\rremote: Counting objects:  64% (129/201)\u001b[K\rremote: Counting objects:  65% (131/201)\u001b[K\rremote: Counting objects:  66% (133/201)\u001b[K\rremote: Counting objects:  67% (135/201)\u001b[K\rremote: Counting objects:  68% (137/201)\u001b[K\rremote: Counting objects:  69% (139/201)\u001b[K\rremote: Counting objects:  70% (141/201)\u001b[K\rremote: Counting objects:  71% (143/201)\u001b[K\rremote: Counting objects:  72% (145/201)\u001b[K\rremote: Counting objects:  73% (147/201)\u001b[K\rremote: Counting objects:  74% (149/201)\u001b[K\rremote: Counting objects:  75% (151/201)\u001b[K\rremote: Counting objects:  76% (153/201)\u001b[K\rremote: Counting objects:  77% (155/201)\u001b[K\rremote: Counting objects:  78% (157/201)\u001b[K\rremote: Counting objects:  79% (159/201)\u001b[K\rremote: Counting objects:  80% (161/201)\u001b[K\rremote: Counting objects:  81% (163/201)\u001b[K\rremote: Counting objects:  82% (165/201)\u001b[K\rremote: Counting objects:  83% (167/201)\u001b[K\rremote: Counting objects:  84% (169/201)\u001b[K\rremote: Counting objects:  85% (171/201)\u001b[K\rremote: Counting objects:  86% (173/201)\u001b[K\rremote: Counting objects:  87% (175/201)\u001b[K\rremote: Counting objects:  88% (177/201)\u001b[K\rremote: Counting objects:  89% (179/201)\u001b[K\rremote: Counting objects:  90% (181/201)\u001b[K\rremote: Counting objects:  91% (183/201)\u001b[K\rremote: Counting objects:  92% (185/201)\u001b[K\rremote: Counting objects:  93% (187/201)\u001b[K\rremote: Counting objects:  94% (189/201)\u001b[K\rremote: Counting objects:  95% (191/201)\u001b[K\rremote: Counting objects:  96% (193/201)\u001b[K\rremote: Counting objects:  97% (195/201)\u001b[K\rremote: Counting objects:  98% (197/201)\u001b[K\rremote: Counting objects:  99% (199/201)\u001b[K\rremote: Counting objects: 100% (201/201)\u001b[K\rremote: Counting objects: 100% (201/201), done.\u001b[K\n",
            "remote: Compressing objects: 100% (157/157), done.\u001b[K\n",
            "remote: Total 534 (delta 125), reused 81 (delta 44), pack-reused 333\u001b[K\n",
            "Receiving objects: 100% (534/534), 28.52 MiB | 19.75 MiB/s, done.\n",
            "Resolving deltas: 100% (332/332), done.\n",
            "Collecting keras\n",
            "\u001b[?25l  Downloading https://files.pythonhosted.org/packages/ad/fd/6bfe87920d7f4fd475acd28500a42482b6b84479832bdc0fe9e589a60ceb/Keras-2.3.1-py2.py3-none-any.whl (377kB)\n",
            "\u001b[K     |████████████████████████████████| 378kB 6.5MB/s \n",
            "\u001b[?25hRequirement already satisfied, skipping upgrade: scipy>=0.14 in /usr/local/lib/python3.6/dist-packages (from keras) (1.3.1)\n",
            "Requirement already satisfied, skipping upgrade: six>=1.9.0 in /usr/local/lib/python3.6/dist-packages (from keras) (1.12.0)\n",
            "Requirement already satisfied, skipping upgrade: h5py in /usr/local/lib/python3.6/dist-packages (from keras) (2.8.0)\n",
            "Requirement already satisfied, skipping upgrade: pyyaml in /usr/local/lib/python3.6/dist-packages (from keras) (3.13)\n",
            "Requirement already satisfied, skipping upgrade: keras-preprocessing>=1.0.5 in /usr/local/lib/python3.6/dist-packages (from keras) (1.1.0)\n",
            "Requirement already satisfied, skipping upgrade: numpy>=1.9.1 in /usr/local/lib/python3.6/dist-packages (from keras) (1.16.5)\n",
            "Requirement already satisfied, skipping upgrade: keras-applications>=1.0.6 in /usr/local/lib/python3.6/dist-packages (from keras) (1.0.8)\n",
            "Installing collected packages: keras\n",
            "  Found existing installation: Keras 2.2.5\n",
            "    Uninstalling Keras-2.2.5:\n",
            "      Successfully uninstalled Keras-2.2.5\n",
            "Successfully installed keras-2.3.1\n"
          ],
          "name": "stdout"
        }
      ]
    },
    {
      "cell_type": "code",
      "metadata": {
        "id": "06XaIE34o7dj",
        "colab_type": "code",
        "outputId": "186a898e-26a8-4135-c1ce-c4ae7b035e8a",
        "colab": {
          "base_uri": "https://localhost:8080/",
          "height": 154
        }
      },
      "source": [
        "#@title # Imports {display-mode: \"form\"}\n",
        "\n",
        "import os\n",
        "import pickle\n",
        "import sys\n",
        "sys.path.append('DeepEEGAbstractor')\n",
        "\n",
        "import numpy as np\n",
        "\n",
        "from src.helpers import CrossValidator\n",
        "from src.models import ModifiedEEGNet\n",
        "from src.dataset import DataLoader, Splitter, FixedLenGenerator\n",
        "\n",
        "from google.colab import drive\n",
        "drive.mount('/content/gdrive')"
      ],
      "execution_count": 0,
      "outputs": [
        {
          "output_type": "stream",
          "text": [
            "Using TensorFlow backend.\n"
          ],
          "name": "stderr"
        },
        {
          "output_type": "stream",
          "text": [
            "tensorflow version:  1.15.0-rc3\n",
            "Go to this URL in a browser: https://accounts.google.com/o/oauth2/auth?client_id=947318989803-6bn6qk8qdgf4n4g3pfee6491hc0brc4i.apps.googleusercontent.com&redirect_uri=urn%3Aietf%3Awg%3Aoauth%3A2.0%3Aoob&scope=email%20https%3A%2F%2Fwww.googleapis.com%2Fauth%2Fdocs.test%20https%3A%2F%2Fwww.googleapis.com%2Fauth%2Fdrive%20https%3A%2F%2Fwww.googleapis.com%2Fauth%2Fdrive.photos.readonly%20https%3A%2F%2Fwww.googleapis.com%2Fauth%2Fpeopleapi.readonly&response_type=code\n",
            "\n",
            "Enter your authorization code:\n",
            "··········\n",
            "Mounted at /content/gdrive\n"
          ],
          "name": "stdout"
        }
      ]
    },
    {
      "cell_type": "code",
      "metadata": {
        "id": "AttnpNjfpDQc",
        "colab_type": "code",
        "outputId": "b17c2dbc-cebb-4bb7-f2cc-d513a5a8d878",
        "colab": {
          "base_uri": "https://localhost:8080/",
          "height": 50
        }
      },
      "source": [
        "#@title # Set data path {display-mode: \"form\"}\n",
        "\n",
        "#@markdown ---\n",
        "#@markdown Type in the folder in your google drive that contains numpy _data_ folder:\n",
        "\n",
        "parent_dir = 'soroush'#@param {type:\"string\"}\n",
        "gdrive_path =  os.path.abspath(os.path.join('gdrive/My Drive', parent_dir))\n",
        "data_dir = os.path.join(gdrive_path, 'data')\n",
        "cv_results_dir = os.path.join(gdrive_path, 'cross_validation')\n",
        "if not os.path.exists(cv_results_dir):\n",
        "    os.mkdir(cv_results_dir)\n",
        "\n",
        "print('Data directory: ', data_dir)\n",
        "print('Cross validation results dir: ', cv_results_dir)"
      ],
      "execution_count": 0,
      "outputs": [
        {
          "output_type": "stream",
          "text": [
            "Data directory:  /content/gdrive/My Drive/soroush/data\n",
            "Cross validation results dir:  /content/gdrive/My Drive/soroush/cross_validation\n"
          ],
          "name": "stdout"
        }
      ]
    },
    {
      "cell_type": "code",
      "metadata": {
        "id": "Lk8p2-8IpKQq",
        "colab_type": "code",
        "cellView": "form",
        "colab": {}
      },
      "source": [
        "#@title ## Set Parameters\n",
        "\n",
        "batch_size = 80\n",
        "epochs = 50\n",
        "k = 10\n",
        "t = 10\n",
        "instance_duration = 4 #@param {type:\"slider\", min:3, max:10, step:0.5}\n",
        "instance_overlap = 1 #@param {type:\"slider\", min:0, max:3, step:0.5}\n",
        "sampling_rate = 256 #@param {type:\"number\"}\n",
        "n_channels = 20 #@param {type:\"number\"}\n",
        "data_mode = 'cross_subject'"
      ],
      "execution_count": 0,
      "outputs": []
    },
    {
      "cell_type": "markdown",
      "metadata": {
        "id": "sYHAlurXpUM5",
        "colab_type": "text"
      },
      "source": [
        "# H-MDD"
      ]
    },
    {
      "cell_type": "code",
      "metadata": {
        "id": "rR1x2qgRpWSY",
        "colab_type": "code",
        "cellView": "form",
        "colab": {}
      },
      "source": [
        "#@title ## M-EEGNet-WFB\n",
        "\n",
        "task = 'hmdd'\n",
        "\n",
        "model_name = 'M-EEGNet-WFB'\n",
        "\n",
        "train_generator = FixedLenGenerator(batch_size=batch_size,\n",
        "                                    duration=instance_duration,\n",
        "                                    overlap=instance_overlap,\n",
        "                                    sampling_rate=sampling_rate,\n",
        "                                    is_train=True)\n",
        "\n",
        "test_generator = FixedLenGenerator(batch_size=8,\n",
        "                                   duration=instance_duration,\n",
        "                                   overlap=instance_overlap,\n",
        "                                   sampling_rate=sampling_rate,\n",
        "                                   is_train=False)\n",
        "\n",
        "params = {'task': task,\n",
        "          'data_mode': data_mode,\n",
        "          'main_res_dir': cv_results_dir,\n",
        "          'model_name': model_name,\n",
        "          'epochs': epochs,\n",
        "          'train_generator': train_generator,\n",
        "          'test_generator': test_generator,\n",
        "          't': t,\n",
        "          'k': k,\n",
        "          'channel_drop': True}\n",
        "\n",
        "validator = CrossValidator(**params)\n",
        "\n",
        "dataloader = DataLoader(data_dir,\n",
        "                        task,\n",
        "                        data_mode,\n",
        "                        sampling_rate,\n",
        "                        instance_duration,\n",
        "                        instance_overlap)\n",
        "data, labels = dataloader.load_data()\n",
        "\n",
        "input_shape = (sampling_rate * instance_duration,\n",
        "               n_channels)\n",
        "\n",
        "model_obj = ModifiedEEGNet(input_shape,\n",
        "                           model_name=model_name,\n",
        "                           init_layer_type='wfb')\n",
        "\n",
        "scores = validator.do_cv(model_obj,\n",
        "                         data,\n",
        "                         labels)"
      ],
      "execution_count": 0,
      "outputs": []
    },
    {
      "cell_type": "code",
      "metadata": {
        "id": "9LHiUd2TqaDn",
        "colab_type": "code",
        "cellView": "form",
        "colab": {}
      },
      "source": [
        "#@title ## M-EEGNet-DFB\n",
        "\n",
        "task = 'hmdd'\n",
        "\n",
        "model_name = 'M-EEGNet-DFB'\n",
        "\n",
        "train_generator = FixedLenGenerator(batch_size=batch_size,\n",
        "                                    duration=instance_duration,\n",
        "                                    overlap=instance_overlap,\n",
        "                                    sampling_rate=sampling_rate,\n",
        "                                    is_train=True)\n",
        "\n",
        "test_generator = FixedLenGenerator(batch_size=8,\n",
        "                                   duration=instance_duration,\n",
        "                                   overlap=instance_overlap,\n",
        "                                   sampling_rate=sampling_rate,\n",
        "                                   is_train=False)\n",
        "\n",
        "params = {'task': task,\n",
        "          'data_mode': data_mode,\n",
        "          'main_res_dir': cv_results_dir,\n",
        "          'model_name': model_name,\n",
        "          'epochs': epochs,\n",
        "          'train_generator': train_generator,\n",
        "          'test_generator': test_generator,\n",
        "          't': t,\n",
        "          'k': k,\n",
        "          'channel_drop': True}\n",
        "\n",
        "validator = CrossValidator(**params)\n",
        "\n",
        "dataloader = DataLoader(data_dir,\n",
        "                        task,\n",
        "                        data_mode,\n",
        "                        sampling_rate,\n",
        "                        instance_duration,\n",
        "                        instance_overlap)\n",
        "data, labels = dataloader.load_data()\n",
        "\n",
        "input_shape = (sampling_rate * instance_duration,\n",
        "               n_channels)\n",
        "\n",
        "model_obj = ModifiedEEGNet(input_shape,\n",
        "                            model_name=model_name,\n",
        "                            init_layer_type='dfb')\n",
        "\n",
        "scores = validator.do_cv(model_obj,\n",
        "                         data,\n",
        "                         labels)"
      ],
      "execution_count": 0,
      "outputs": []
    },
    {
      "cell_type": "code",
      "metadata": {
        "id": "orKP5ekIDqpS",
        "colab_type": "code",
        "colab": {},
        "cellView": "form"
      },
      "source": [
        "#@title ## M-EEGNet-DFB-NK\n",
        "\n",
        "task = 'hmdd'\n",
        "\n",
        "model_name = 'M-EEGNet-DFB-NK'\n",
        "\n",
        "train_generator = FixedLenGenerator(batch_size=batch_size,\n",
        "                                    duration=instance_duration,\n",
        "                                    overlap=instance_overlap,\n",
        "                                    sampling_rate=sampling_rate,\n",
        "                                    is_train=True)\n",
        "\n",
        "test_generator = FixedLenGenerator(batch_size=8,\n",
        "                                   duration=instance_duration,\n",
        "                                   overlap=instance_overlap,\n",
        "                                   sampling_rate=sampling_rate,\n",
        "                                   is_train=False)\n",
        "\n",
        "params = {'task': task,\n",
        "          'data_mode': data_mode,\n",
        "          'main_res_dir': cv_results_dir,\n",
        "          'model_name': model_name,\n",
        "          'epochs': epochs,\n",
        "          'train_generator': train_generator,\n",
        "          'test_generator': test_generator,\n",
        "          't': t,\n",
        "          'k': k,\n",
        "          'channel_drop': True}\n",
        "\n",
        "validator = CrossValidator(**params)\n",
        "\n",
        "dataloader = DataLoader(data_dir,\n",
        "                        task,\n",
        "                        data_mode,\n",
        "                        sampling_rate,\n",
        "                        instance_duration,\n",
        "                        instance_overlap)\n",
        "data, labels = dataloader.load_data()\n",
        "\n",
        "input_shape = (sampling_rate * instance_duration,\n",
        "               n_channels)\n",
        "\n",
        "model_obj = ModifiedEEGNet(input_shape,\n",
        "                            model_name=model_name,\n",
        "                            init_layer_type='dfb',\n",
        "                           normalize_kernels=True)\n",
        "\n",
        "scores = validator.do_cv(model_obj,\n",
        "                         data,\n",
        "                         labels)"
      ],
      "execution_count": 0,
      "outputs": []
    },
    {
      "cell_type": "markdown",
      "metadata": {
        "id": "Be2i4N00qfBV",
        "colab_type": "text"
      },
      "source": [
        "# R-nR"
      ]
    },
    {
      "cell_type": "code",
      "metadata": {
        "id": "w9pteOfQqhdJ",
        "colab_type": "code",
        "cellView": "form",
        "colab": {}
      },
      "source": [
        "#@title ## M-EEGNet-WFB\n",
        "\n",
        "task = 'rnr'\n",
        "\n",
        "model_name = 'M-EEGNet-WFB'\n",
        "\n",
        "train_generator = FixedLenGenerator(batch_size=batch_size,\n",
        "                                    duration=instance_duration,\n",
        "                                    overlap=instance_overlap,\n",
        "                                    sampling_rate=sampling_rate,\n",
        "                                    is_train=True)\n",
        "\n",
        "test_generator = FixedLenGenerator(batch_size=8,\n",
        "                                   duration=instance_duration,\n",
        "                                   overlap=instance_overlap,\n",
        "                                   sampling_rate=sampling_rate,\n",
        "                                   is_train=False)\n",
        "\n",
        "params = {'task': task,\n",
        "          'data_mode': data_mode,\n",
        "          'main_res_dir': cv_results_dir,\n",
        "          'model_name': model_name,\n",
        "          'epochs': epochs,\n",
        "          'train_generator': train_generator,\n",
        "          'test_generator': test_generator,\n",
        "          't': t,\n",
        "          'k': k,\n",
        "          'channel_drop': True}\n",
        "\n",
        "validator = CrossValidator(**params)\n",
        "\n",
        "dataloader = DataLoader(data_dir,\n",
        "                        task,\n",
        "                        data_mode,\n",
        "                        sampling_rate,\n",
        "                        instance_duration,\n",
        "                        instance_overlap)\n",
        "data, labels = dataloader.load_data()\n",
        "\n",
        "input_shape = (sampling_rate * instance_duration,\n",
        "               n_channels)\n",
        "\n",
        "model_obj = ModifiedEEGNet(input_shape,\n",
        "                   model_name=model_name,\n",
        "                   init_layer_type='wfb')\n",
        "\n",
        "scores = validator.do_cv(model_obj,\n",
        "                         data,\n",
        "                         labels)"
      ],
      "execution_count": 0,
      "outputs": []
    },
    {
      "cell_type": "code",
      "metadata": {
        "id": "lXDSTaOeqn1m",
        "colab_type": "code",
        "cellView": "form",
        "colab": {}
      },
      "source": [
        "#@title ## M-EEGNet-DFB\n",
        "\n",
        "task = 'rnr'\n",
        "\n",
        "model_name = 'M-EEGNet-DFB'\n",
        "\n",
        "train_generator = FixedLenGenerator(batch_size=batch_size,\n",
        "                                    duration=instance_duration,\n",
        "                                    overlap=instance_overlap,\n",
        "                                    sampling_rate=sampling_rate,\n",
        "                                    is_train=True)\n",
        "\n",
        "test_generator = FixedLenGenerator(batch_size=8,\n",
        "                                   duration=instance_duration,\n",
        "                                   overlap=instance_overlap,\n",
        "                                   sampling_rate=sampling_rate,\n",
        "                                   is_train=False)\n",
        "\n",
        "params = {'task': task,\n",
        "          'data_mode': data_mode,\n",
        "          'main_res_dir': cv_results_dir,\n",
        "          'model_name': model_name,\n",
        "          'epochs': epochs,\n",
        "          'train_generator': train_generator,\n",
        "          'test_generator': test_generator,\n",
        "          't': t,\n",
        "          'k': k,\n",
        "          'channel_drop': True}\n",
        "\n",
        "validator = CrossValidator(**params)\n",
        "\n",
        "dataloader = DataLoader(data_dir,\n",
        "                        task,\n",
        "                        data_mode,\n",
        "                        sampling_rate,\n",
        "                        instance_duration,\n",
        "                        instance_overlap)\n",
        "data, labels = dataloader.load_data()\n",
        "\n",
        "input_shape = (sampling_rate * instance_duration,\n",
        "               n_channels)\n",
        "\n",
        "model_obj = ModifiedEEGNet(input_shape,\n",
        "                   model_name=model_name,\n",
        "                   init_layer_type='dfb')\n",
        "\n",
        "scores = validator.do_cv(model_obj,\n",
        "                         data,\n",
        "                         labels)"
      ],
      "execution_count": 0,
      "outputs": []
    },
    {
      "cell_type": "code",
      "metadata": {
        "id": "1xoCJtNSDUue",
        "colab_type": "code",
        "colab": {},
        "cellView": "form"
      },
      "source": [
        "#@title ## M-EEGNet-DFB-NK\n",
        "\n",
        "task = 'rnr'\n",
        "\n",
        "model_name = 'M-EEGNet-DFB-NK'\n",
        "\n",
        "train_generator = FixedLenGenerator(batch_size=batch_size,\n",
        "                                    duration=instance_duration,\n",
        "                                    overlap=instance_overlap,\n",
        "                                    sampling_rate=sampling_rate,\n",
        "                                    is_train=True)\n",
        "\n",
        "test_generator = FixedLenGenerator(batch_size=8,\n",
        "                                   duration=instance_duration,\n",
        "                                   overlap=instance_overlap,\n",
        "                                   sampling_rate=sampling_rate,\n",
        "                                   is_train=False)\n",
        "\n",
        "params = {'task': task,\n",
        "          'data_mode': data_mode,\n",
        "          'main_res_dir': cv_results_dir,\n",
        "          'model_name': model_name,\n",
        "          'epochs': epochs,\n",
        "          'train_generator': train_generator,\n",
        "          'test_generator': test_generator,\n",
        "          't': t,\n",
        "          'k': k,\n",
        "          'channel_drop': True}\n",
        "\n",
        "validator = CrossValidator(**params)\n",
        "\n",
        "dataloader = DataLoader(data_dir,\n",
        "                        task,\n",
        "                        data_mode,\n",
        "                        sampling_rate,\n",
        "                        instance_duration,\n",
        "                        instance_overlap)\n",
        "data, labels = dataloader.load_data()\n",
        "\n",
        "input_shape = (sampling_rate * instance_duration,\n",
        "               n_channels)\n",
        "\n",
        "model_obj = ModifiedEEGNet(input_shape,\n",
        "                            model_name=model_name,\n",
        "                            init_layer_type='dfb',\n",
        "                           normalize_kernels=True)\n",
        "\n",
        "scores = validator.do_cv(model_obj,\n",
        "                         data,\n",
        "                         labels)"
      ],
      "execution_count": 0,
      "outputs": []
    }
  ]
}